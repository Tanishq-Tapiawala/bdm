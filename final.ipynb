{
 "cells": [
  {
   "cell_type": "code",
   "execution_count": 1,
   "id": "c2308294",
   "metadata": {},
   "outputs": [],
   "source": [
    "import pandas as pd\n",
    "\n",
    "from textblob import TextBlob\n",
    "\n",
    "from pyspark.sql.functions import udf\n",
    "from pyspark.sql.types import FloatType\n",
    "from pyspark.sql.types import StringType\n",
    "from pyspark.sql import SparkSession\n",
    "from pyspark.sql.types import StructType\n",
    "from pyspark.sql import Row\n",
    "\n",
    "import matplotlib.pyplot as plt\n",
    "import seaborn as sns"
   ]
  },
  {
   "cell_type": "code",
   "execution_count": 2,
   "id": "ae57bf32",
   "metadata": {},
   "outputs": [
    {
     "name": "stdout",
     "output_type": "stream",
     "text": [
      ":: loading settings :: url = jar:file:/opt/homebrew/lib/python3.10/site-packages/pyspark/jars/ivy-2.5.0.jar!/org/apache/ivy/core/settings/ivysettings.xml\n"
     ]
    },
    {
     "name": "stderr",
     "output_type": "stream",
     "text": [
      "Ivy Default Cache set to: /Users/tanishqtapiawala/.ivy2/cache\n",
      "The jars for the packages stored in: /Users/tanishqtapiawala/.ivy2/jars\n",
      "org.mongodb.spark#mongo-spark-connector_2.12 added as a dependency\n",
      ":: resolving dependencies :: org.apache.spark#spark-submit-parent-2cbd635c-8369-4068-b0c3-a26c8f6a2828;1.0\n",
      "\tconfs: [default]\n",
      "\tfound org.mongodb.spark#mongo-spark-connector_2.12;3.0.1 in central\n",
      "\tfound org.mongodb#mongodb-driver-sync;4.0.5 in central\n",
      "\tfound org.mongodb#bson;4.0.5 in central\n",
      "\tfound org.mongodb#mongodb-driver-core;4.0.5 in central\n",
      ":: resolution report :: resolve 432ms :: artifacts dl 18ms\n",
      "\t:: modules in use:\n",
      "\torg.mongodb#bson;4.0.5 from central in [default]\n",
      "\torg.mongodb#mongodb-driver-core;4.0.5 from central in [default]\n",
      "\torg.mongodb#mongodb-driver-sync;4.0.5 from central in [default]\n",
      "\torg.mongodb.spark#mongo-spark-connector_2.12;3.0.1 from central in [default]\n",
      "\t---------------------------------------------------------------------\n",
      "\t|                  |            modules            ||   artifacts   |\n",
      "\t|       conf       | number| search|dwnlded|evicted|| number|dwnlded|\n",
      "\t---------------------------------------------------------------------\n",
      "\t|      default     |   4   |   0   |   0   |   0   ||   4   |   0   |\n",
      "\t---------------------------------------------------------------------\n",
      ":: retrieving :: org.apache.spark#spark-submit-parent-2cbd635c-8369-4068-b0c3-a26c8f6a2828\n",
      "\tconfs: [default]\n",
      "\t0 artifacts copied, 4 already retrieved (0kB/12ms)\n"
     ]
    },
    {
     "name": "stdout",
     "output_type": "stream",
     "text": [
      "22/12/16 16:45:01 WARN NativeCodeLoader: Unable to load native-hadoop library for your platform... using builtin-java classes where applicable\n"
     ]
    },
    {
     "name": "stderr",
     "output_type": "stream",
     "text": [
      "Setting default log level to \"WARN\".\n",
      "To adjust logging level use sc.setLogLevel(newLevel). For SparkR, use setLogLevel(newLevel).\n"
     ]
    }
   ],
   "source": [
    "# sparkSession = SparkSession \\\n",
    "#     .builder \\\n",
    "#     .appName(\"myApp\") \\\n",
    "#     .config(\"spark.mongodb.read.connection.uri\", \"mongodb://127.0.0.1:27017/bdm.sentiment\") \\\n",
    "#     .config(\"spark.mongodb.write.connection.uri\", \"mongodb://127.0.0.1/bdm.sentiment\") \\\n",
    "#     .getOrCreate()\n",
    "\n",
    "\n",
    "sparkSession = SparkSession \\\n",
    "    .builder \\\n",
    "    .appName(\"mongodbtest1\") \\\n",
    "    .master('local')\\\n",
    "    .config(\"spark.mongodb.input.uri\", \"mongodb://127.0.0.1:27017/bdm\") \\\n",
    "    .config(\"spark.mongodb.output.uri\", \"mongodb://127.0.0.1:27017/bdm\") \\\n",
    "    .config('spark.jars.packages', 'org.mongodb.spark:mongo-spark-connector_2.12:3.0.1') \\\n",
    "    .getOrCreate()"
   ]
  },
  {
   "cell_type": "code",
   "execution_count": 3,
   "id": "5630ee74",
   "metadata": {},
   "outputs": [],
   "source": [
    "schema = StructType() \\\n",
    "                    .add(\"review_id\", \"string\")\\\n",
    "                    .add(\"user_id\", \"string\")\\\n",
    "                    .add(\"business_id\", \"string\")\\\n",
    "                    .add(\"stars\", \"integer\")\\\n",
    "                    .add(\"useful\", \"integer\")\\\n",
    "                    .add(\"funny\", \"integer\")\\\n",
    "                    .add(\"cool\", \"integer\")\\\n",
    "                    .add(\"text\", \"string\")\\\n",
    "                    .add(\"date\", \"string\")"
   ]
  },
  {
   "cell_type": "code",
   "execution_count": 4,
   "id": "7249b274",
   "metadata": {},
   "outputs": [
    {
     "name": "stderr",
     "output_type": "stream",
     "text": [
      "                                                                                \r"
     ]
    },
    {
     "name": "stdout",
     "output_type": "stream",
     "text": [
      "+--------------------+--------------------+--------------------+-----+------+-----+----+--------------------+-------------------+\n",
      "|           review_id|             user_id|         business_id|stars|useful|funny|cool|                text|               date|\n",
      "+--------------------+--------------------+--------------------+-----+------+-----+----+--------------------+-------------------+\n",
      "|KU_O5udG6zpxOg-Vc...|mh_-eMZ6K5RLWhZyI...|XQfwVwDr-v0ZS3_Cb...|    3|     0|    0|   0|If you decide to ...|               null|\n",
      "|    The food is good| but it takes a v...| but usually plea...| null|  null| null|null|                null|               null|\n",
      "|BiTunyQ73aT9WBnpR...|OyoGAe7OKpv6SyGZT...|7ATYjTIgM3jUlt4UM...|    5|     1|    0|   1|I've taken a lot ...|               null|\n",
      "|For anyone who st...| the online sched...|                null| null|  null| null|null|                null|               null|\n",
      "|There is no way I...| the owner of Bod...| a shout out. Rus...| null|  null| null|null|                null|               null|\n",
      "|saUsX_uimxRlCVr67...|8g_iMtfSiwikVnbP2...|YjUWPpI6HXG530lwP...|    3|     0|    0|   0|Family diner. Had...|2014-02-05 20:30:30|\n",
      "|AqPFMleE6RsU23_au...|_7bHUi9Uuf5__HHc_...|kxX2SOes4o-D3ZQBk...|    5|     1|    0|   1|Wow!  Yummy, diff...|2015-01-04 00:01:03|\n",
      "|Sx8TMOWLNuJBWer-0...|bcjbaE6dDog4jkNY9...|e4Vwtrqf-wpJfwesg...|    4|     1|    0|   1|Cute interior and...|2017-01-14 20:54:15|\n",
      "|JrIxlS1TzJ-iCu79u...|eUta8W_HdHMXPzLBB...|04UD14gamNjLY0IDY...|    1|     1|    2|   1|I am a long term ...|2015-09-23 23:10:31|\n",
      "|6AxgBCNX_PNTOxmbR...|r3zeYsv1XFBRA4dJp...|gmjsEdUsKpj9Xxu6p...|    5|     0|    2|   0|Loved this tour! ...|2015-01-03 23:21:18|\n",
      "|_ZeMknuYdlQcUqng_...|yfFzsLmaWF2d4Sr0U...|LHSTtnW3YHCeUkRDG...|    5|     2|    0|   0|Amazingly amazing...|2015-08-07 02:29:16|\n",
      "|ZKvDG2sBvHVdF5oBN...|wSTuiTk-sKNdcFypr...|B5XSoSG3SfvQGtKEG...|    3|     1|    1|   0|This easter inste...|2016-03-30 22:46:33|\n",
      "|pUycOfUwM8vqX7KjR...|59MxRhNVhU9MYndMk...|gebiRewfieSdtt17P...|    3|     0|    0|   0|Had a party of 6 ...|2016-07-25 07:31:06|\n",
      "|rGQRf8UafX7OTlMNN...|1WHRWwQmZOZDAhp2Q...|uMvVYRgGNXf5boolA...|    5|     2|    0|   0|My experience wit...|               null|\n",
      "|I wanted to get m...|                null|                null| null|  null| null|null|                null|               null|\n",
      "|When I brought it by| the team confirm...| decrease by thre...| null|  null| null|null|                null|               null|\n",
      "|I checked my size...|           confirmed| and left to let ...| null|  null| null|null|                null|               null|\n",
      "|When I came to pi...| the ring was too...| but that I made ...| null|  null| null|null|                null|               null|\n",
      "|The Shalimar grou...| even resizing my...|                null| null|  null| null|null|                null|               null|\n",
      "|The associates' a...| 2015-06-21 14:48:06|                null| null|  null| null|null|                null|               null|\n",
      "+--------------------+--------------------+--------------------+-----+------+-----+----+--------------------+-------------------+\n",
      "only showing top 20 rows\n",
      "\n"
     ]
    }
   ],
   "source": [
    "review=sparkSession.read.csv(\"hdfs://127.0.0.1:9000/fp/review.csv\", schema=schema)\n",
    "\n",
    "review.show()"
   ]
  },
  {
   "cell_type": "code",
   "execution_count": 5,
   "id": "bef414ad",
   "metadata": {},
   "outputs": [],
   "source": [
    "review = review.dropna()"
   ]
  },
  {
   "cell_type": "code",
   "execution_count": 6,
   "id": "822be871",
   "metadata": {},
   "outputs": [
    {
     "name": "stderr",
     "output_type": "stream",
     "text": [
      "                                                                                \r"
     ]
    }
   ],
   "source": [
    "plot_review = review.limit(500000).toPandas()"
   ]
  },
  {
   "cell_type": "code",
   "execution_count": 7,
   "id": "c7b8b434",
   "metadata": {},
   "outputs": [
    {
     "data": {
      "text/plain": [
       "<AxesSubplot: xlabel='stars', ylabel='count'>"
      ]
     },
     "execution_count": 7,
     "metadata": {},
     "output_type": "execute_result"
    },
    {
     "data": {
      "image/png": "[encoded data removed]",
      "text/plain": [
       "<Figure size 640x480 with 1 Axes>"
      ]
     },
     "metadata": {},
     "output_type": "display_data"
    }
   ],
   "source": [
    "sns.countplot(x ='stars', data = plot_review)"
   ]
  },
  {
   "cell_type": "code",
   "execution_count": 8,
   "id": "f9877c49",
   "metadata": {},
   "outputs": [],
   "source": [
    "review = review.select('text')"
   ]
  },
  {
   "cell_type": "code",
   "execution_count": 9,
   "id": "e786cd4a",
   "metadata": {},
   "outputs": [
    {
     "name": "stdout",
     "output_type": "stream",
     "text": [
      "+--------------------+\n",
      "|                text|\n",
      "+--------------------+\n",
      "|Family diner. Had...|\n",
      "|Wow!  Yummy, diff...|\n",
      "|Cute interior and...|\n",
      "|I am a long term ...|\n",
      "|Loved this tour! ...|\n",
      "|Amazingly amazing...|\n",
      "|This easter inste...|\n",
      "|Had a party of 6 ...|\n",
      "|Locals recommende...|\n",
      "|Love going here f...|\n",
      "|Great place for b...|\n",
      "|Tremendous servic...|\n",
      "|The hubby and I h...|\n",
      "|I go to blow bar ...|\n",
      "|My absolute favor...|\n",
      "|Upland is a brewe...|\n",
      "|I thoroughly enjo...|\n",
      "|Yes, this is the ...|\n",
      "|Went for lunch. B...|\n",
      "|Best thai food in...|\n",
      "+--------------------+\n",
      "only showing top 20 rows\n",
      "\n"
     ]
    }
   ],
   "source": [
    "review.show()"
   ]
  },
  {
   "cell_type": "code",
   "execution_count": 10,
   "id": "2da468a5",
   "metadata": {},
   "outputs": [],
   "source": [
    "# Subjective sentence expresses some personal feelings, views, or beliefs.\n",
    "def getSubjectivity(chat):\n",
    "    return TextBlob(chat).sentiment.subjectivity\n",
    "\n",
    "# It simply means emotions expressed in a sentence.\n",
    "def getPolarity(chat):\n",
    "    return TextBlob(chat).sentiment.polarity\n",
    "\n",
    "def getSentiment(polarityValue):\n",
    "    if polarityValue < 0:\n",
    "        return 'Negative'\n",
    "    elif polarityValue == 0:\n",
    "        return 'Neutral'\n",
    "    else:\n",
    "        return 'Positive'"
   ]
  },
  {
   "cell_type": "code",
   "execution_count": 11,
   "id": "da9df90d",
   "metadata": {},
   "outputs": [],
   "source": [
    "sub_score_udf = udf(lambda x: getSubjectivity(x), FloatType())\n",
    "pol_score_udf = udf(lambda x: getPolarity(x), FloatType())\n",
    "sen_score_udf = udf(lambda x: getSentiment(x), StringType())"
   ]
  },
  {
   "cell_type": "code",
   "execution_count": 12,
   "id": "4680e4ba",
   "metadata": {},
   "outputs": [],
   "source": [
    "sub = review.withColumn('subjectivity', sub_score_udf('text'))\n",
    "pol = sub.withColumn('polarity', pol_score_udf('text'))\n",
    "df = pol.withColumn('sentiment', sen_score_udf('polarity'))"
   ]
  },
  {
   "cell_type": "code",
   "execution_count": 13,
   "id": "5909eadb",
   "metadata": {},
   "outputs": [
    {
     "name": "stderr",
     "output_type": "stream",
     "text": [
      "\r",
      "[Stage 4:>                                                          (0 + 1) / 1]\r"
     ]
    },
    {
     "name": "stdout",
     "output_type": "stream",
     "text": [
      "+--------------------+------------+------------+---------+\n",
      "|                text|subjectivity|    polarity|sentiment|\n",
      "+--------------------+------------+------------+---------+\n",
      "|Family diner. Had...|  0.52229434|  0.13993506| Positive|\n",
      "|Wow!  Yummy, diff...|   0.7130682|   0.3025568| Positive|\n",
      "|Cute interior and...|  0.49091837|   0.4009694| Positive|\n",
      "|I am a long term ...|  0.40555555|  0.20277777| Positive|\n",
      "|Loved this tour! ...|  0.43938503|  0.28973708| Positive|\n",
      "|Amazingly amazing...|   0.7888889|  0.50555557| Positive|\n",
      "|This easter inste...|   0.5391414|-0.025505051| Negative|\n",
      "|Had a party of 6 ...|  0.43194443|  0.18636364| Positive|\n",
      "|Locals recommende...|         0.9|         0.6| Positive|\n",
      "|Love going here f...|        0.65|       0.625| Positive|\n",
      "|Great place for b...|  0.60833335|      0.4625| Positive|\n",
      "|Tremendous servic...|  0.64166665|     0.21875| Positive|\n",
      "|The hubby and I h...|  0.46547619|  0.24206349| Positive|\n",
      "|I go to blow bar ...|  0.59909093|  0.32510418| Positive|\n",
      "|My absolute favor...|   0.6099206|  0.43492064| Positive|\n",
      "|Upland is a brewe...|   0.5113889|  0.22046296| Positive|\n",
      "|I thoroughly enjo...|         0.7|         0.5| Positive|\n",
      "|Yes, this is the ...|  0.60833335|   0.5152778| Positive|\n",
      "|Went for lunch. B...|         0.8|      0.9375| Positive|\n",
      "|Best thai food in...|      0.5125|       0.625| Positive|\n",
      "+--------------------+------------+------------+---------+\n",
      "only showing top 20 rows\n",
      "\n"
     ]
    },
    {
     "name": "stderr",
     "output_type": "stream",
     "text": [
      "\r",
      "                                                                                \r"
     ]
    }
   ],
   "source": [
    "df.show()"
   ]
  },
  {
   "cell_type": "code",
   "execution_count": 14,
   "id": "0860e1a3",
   "metadata": {},
   "outputs": [
    {
     "name": "stderr",
     "output_type": "stream",
     "text": [
      "                                                                                \r"
     ]
    }
   ],
   "source": [
    "plot_df = df.limit(500000).toPandas()"
   ]
  },
  {
   "cell_type": "code",
   "execution_count": 15,
   "id": "e743bc25",
   "metadata": {},
   "outputs": [
    {
     "data": {
      "text/html": [
       "<div>\n",
       "<style scoped>\n",
       "    .dataframe tbody tr th:only-of-type {\n",
       "        vertical-align: middle;\n",
       "    }\n",
       "\n",
       "    .dataframe tbody tr th {\n",
       "        vertical-align: top;\n",
       "    }\n",
       "\n",
       "    .dataframe thead th {\n",
       "        text-align: right;\n",
       "    }\n",
       "</style>\n",
       "<table border=\"1\" class=\"dataframe\">\n",
       "  <thead>\n",
       "    <tr style=\"text-align: right;\">\n",
       "      <th></th>\n",
       "      <th>subjectivity</th>\n",
       "      <th>polarity</th>\n",
       "    </tr>\n",
       "  </thead>\n",
       "  <tbody>\n",
       "    <tr>\n",
       "      <th>count</th>\n",
       "      <td>500000.000000</td>\n",
       "      <td>500000.000000</td>\n",
       "    </tr>\n",
       "    <tr>\n",
       "      <th>mean</th>\n",
       "      <td>0.569517</td>\n",
       "      <td>0.262583</td>\n",
       "    </tr>\n",
       "    <tr>\n",
       "      <th>std</th>\n",
       "      <td>0.151376</td>\n",
       "      <td>0.260433</td>\n",
       "    </tr>\n",
       "    <tr>\n",
       "      <th>min</th>\n",
       "      <td>0.000000</td>\n",
       "      <td>-1.000000</td>\n",
       "    </tr>\n",
       "    <tr>\n",
       "      <th>25%</th>\n",
       "      <td>0.483333</td>\n",
       "      <td>0.107887</td>\n",
       "    </tr>\n",
       "    <tr>\n",
       "      <th>50%</th>\n",
       "      <td>0.571602</td>\n",
       "      <td>0.279821</td>\n",
       "    </tr>\n",
       "    <tr>\n",
       "      <th>75%</th>\n",
       "      <td>0.662500</td>\n",
       "      <td>0.429167</td>\n",
       "    </tr>\n",
       "    <tr>\n",
       "      <th>max</th>\n",
       "      <td>1.000000</td>\n",
       "      <td>1.000000</td>\n",
       "    </tr>\n",
       "  </tbody>\n",
       "</table>\n",
       "</div>"
      ],
      "text/plain": [
       "        subjectivity       polarity\n",
       "count  500000.000000  500000.000000\n",
       "mean        0.569517       0.262583\n",
       "std         0.151376       0.260433\n",
       "min         0.000000      -1.000000\n",
       "25%         0.483333       0.107887\n",
       "50%         0.571602       0.279821\n",
       "75%         0.662500       0.429167\n",
       "max         1.000000       1.000000"
      ]
     },
     "execution_count": 15,
     "metadata": {},
     "output_type": "execute_result"
    }
   ],
   "source": [
    "plot_df.describe()"
   ]
  },
  {
   "cell_type": "code",
   "execution_count": 16,
   "id": "c0617c04",
   "metadata": {},
   "outputs": [
    {
     "data": {
      "text/plain": [
       "<AxesSubplot: xlabel='sentiment', ylabel='count'>"
      ]
     },
     "execution_count": 16,
     "metadata": {},
     "output_type": "execute_result"
    },
    {
     "data": {
      "image/png": "[encoded data removed]",
      "text/plain": [
       "<Figure size 640x480 with 1 Axes>"
      ]
     },
     "metadata": {},
     "output_type": "display_data"
    }
   ],
   "source": [
    "sns.countplot(x ='sentiment', data = plot_df)"
   ]
  },
  {
   "cell_type": "code",
   "execution_count": 17,
   "id": "a012c395",
   "metadata": {},
   "outputs": [],
   "source": [
    "# df.write.format(\"mongo\").option('uri', 'mongodb://127.0.0.1')\\\n",
    "#     .option('database', 'bdm') \\\n",
    "#     .option('collection', 'final') \\\n",
    "#     .mode(\"overwrite\") \\\n",
    "#     .save()"
   ]
  },
  {
   "cell_type": "code",
   "execution_count": null,
   "id": "e0639a89",
   "metadata": {},
   "outputs": [],
   "source": []
  }
 ],
 "metadata": {
  "kernelspec": {
   "display_name": "Python 3 (ipykernel)",
   "language": "python",
   "name": "python3"
  },
  "language_info": {
   "codemirror_mode": {
    "name": "ipython",
    "version": 3
   },
   "file_extension": ".py",
   "mimetype": "text/x-python",
   "name": "python",
   "nbconvert_exporter": "python",
   "pygments_lexer": "ipython3",
   "version": "3.10.9"
  }
 },
 "nbformat": 4,
 "nbformat_minor": 5
}
